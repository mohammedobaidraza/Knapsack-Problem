{
  "nbformat": 4,
  "nbformat_minor": 0,
  "metadata": {
    "colab": {
      "provenance": []
    },
    "kernelspec": {
      "name": "python3",
      "display_name": "Python 3"
    },
    "language_info": {
      "name": "python"
    }
  },
  "cells": [
    {
      "cell_type": "markdown",
      "source": [
        "# The 0/1 <strike>Knapsack</strike> UHaul problem\n",
        "\n",
        "Consider a collection of n items, enumerated as a set $M=\\{1,2,\\ldots,n\\}$. Each item $i\\in M$ has a value $v_i > 0$ and a weight $w_i > 0$. We want to find a subset $S\\subseteq M$ such that\n",
        "\n",
        "\\begin{align}\n",
        "\\sum_{i\\in S} v_i\\ \\text{is}\\ \\max \\text{while}\\\n",
        "\\sum_{i\\in S} w_i \\leq C_\\max\n",
        "\\end{align}\n",
        "\n",
        "where $C_\\max>0$ is some weight constant, for example the capacity of a truck we use to move things.\n",
        "\n",
        "In other words, of all $2^n$ subsets of $M$, which one is the most valuable while it doesn't exceed a specific weight?\n",
        "\n",
        "For small values of $n$, the problem can be solved with brute force. When $n=10$, we can consider each of the $2^{10}$ subsets, rejecting those whose total weight is not below $C_\\max$, then finding the one with the most value. For larger values of $n$, things may slow down.\n",
        "\n",
        "Imagine a scenario where an international ring of art thieves plans to hit the Art Institute of Chicago. They rent a small truck that can carry up to $C_\\max=500$ lbs. Of all the items from the AIC they can fit in their truck, which combination is the most valuable? The museum has over 100,000 artifacts. There are $2^{300\\,000}$ combinations or about $10^{100\\,000}$. If we can examine one billion combinations per second, we can eliminate approximately $10^{17}$ combinations per year. After $10^{99\\,983}$ years, the international art thieves would have their answer. That's a *very* long time, considering that the universe is about $1.4\\times 10^{10}$ years old."
      ],
      "metadata": {
        "id": "sDBJ73xuzt5z"
      }
    },
    {
      "cell_type": "markdown",
      "source": [
        "## Can we help the thieves?\n",
        "(Yes, you are paying tuition for this!)\n",
        "\n",
        "What if we told the would-be-thieves that we can find the best combination in only $5\\times 10^7$ steps instead of $10^{100\\,000}$ steps?  \n",
        "Instead of $10^{99\\,983}$ years they can have the answer in 0.05 seconds (since we are computing 1 billion combinations per second).\n",
        "\n",
        "Wouldn't that be worth something? Maybe 20% of their profits?"
      ],
      "metadata": {
        "id": "09pWoyLLAf9k"
      }
    },
    {
      "cell_type": "markdown",
      "source": [
        "\n",
        "<center>\n",
        "\n",
        "![American Gothic](https://drive.google.com/uc?export=view&id=1dUo-zLokDVRIKpSsZ4_3HROPVvDWwDlQ)\n",
        "![Nighthawks](https://drive.google.com/uc?export=view&id=1dY4ecE6WZWNajY-l_ZDENj_igRGVsSUL)\n",
        "![Sky Above Clouds IV](https://drive.google.com/uc?export=view&id=1dTqECkj9HV0Vm3SicGNheGptw3fl_4Mf)\n",
        "![Old Guitarist](https://drive.google.com/uc?export=view&id=1dQU88AaWqTkAFu-_BLGkmDJvYsy5dL6E)\n",
        "\n",
        "*Four emblematic paintings in the Art Institute of Chicago: American Gothic by Grant Wood; Nighthawks by Edward Hopper; Sky Above Clouds by Georgia O'Keefe, and; The Old Guitarist by Pablo Picasso. The pictures have been cropped to fit in this notebook.*\n",
        "</center>"
      ],
      "metadata": {
        "id": "G-djBZDnALmF"
      }
    },
    {
      "cell_type": "markdown",
      "source": [
        "## How?\n",
        "\n",
        "Instead of all the artifacts, let's say that $M$ is the set of all the paintigs in the Art Institute:\n",
        "\n",
        "$$\n",
        "M =\n",
        "\\{\n",
        "  \\textsf{American Gothic},\\ \\\n",
        "  \\textsf{Nighthawks},\\ \\\n",
        "  \\textsf{Sky Above Clouds IV},\\ldots,\\  \n",
        "  \\textsf{The Old Guitarist}\n",
        "\\}\n",
        "$$\n",
        "\n",
        "There are about 3000 paintings in the museum, so we know there are $2^{3000}$ possible combinations. At least one of them comes to about 500 lbs and has the highest value than any other combination we can carry away.\n",
        "\n",
        "Let's imagine that somehow we found the perfect solution: a subset $S$ of  $M$ that contains the most valuable paintings whose weight does not exceed 500 lbs.\n",
        "\n",
        "And we ask a simple question: **is the last painting listed in** $M$, **part of the solution or not?** When the thieves drive away with several paintings, is Picasso's *Old Guitarist* in the truck or not?\n"
      ],
      "metadata": {
        "id": "WmjniNWVE9Qv"
      }
    },
    {
      "cell_type": "markdown",
      "source": [
        "### Picasso's *Old Guitarist* **not** in the truck\n",
        "\n",
        "The thieves drive away with the same loot as if the painting was never part of the museum's collection. In other words, the most valuable subset of\n",
        "\n",
        "$$\n",
        "M =\n",
        "\\{\n",
        "  \\textsf{American Gothic},\\ \\\n",
        "  \\textsf{Nighthawks},\\ \\\n",
        "  \\textsf{Sky Above Clouds IV},\\ldots,\\  \n",
        "  \\textsf{The Old Guitarist}\n",
        "\\}\n",
        "$$\n",
        "\n",
        "that fits in a 500 lbs truck, is also the most valuable subset of\n",
        "\n",
        "$$M-\\{\\textsf{The Old Guitarist} \\}$$<br/>"
      ],
      "metadata": {
        "id": "WO1m5EABn0z2"
      }
    },
    {
      "cell_type": "markdown",
      "source": [
        "### Picasso's *Old Guitarist* **in** the truck\n",
        "\n",
        "Right before grabbing *The Old Guitarist,* the thieves had found the most valuable subset of\n",
        "$$M-\\{\\textsf{The Old Guitarist} \\}$$\n",
        "to fit in their truck, now fully loaded with 500 lbs of paintings. When they come across the last painting, they face a dilemma: drive away with what they already got or unload a few\n",
        "paintings to make room and take the Picasso with them?\n",
        "\n",
        "If they unload a few paintings, the capacity of the truck becomes $$500-w_\\textsf{The Old Guitarist}$$\n",
        "i.e. enough to fit the Picasso painting. For this new capacity, there is a different subset of $M-\\{\\textsf{The Old Guitarist} \\}$ that is the most valuable combination of paintings with total weight $\\leq 500-w_\\textsf{The Old Guitarist}$.\n",
        "\n",
        "Is the value of this different subset, plus the value of the Picasso painting, higher or lower than the value of previous subset?"
      ],
      "metadata": {
        "id": "WCW0C0m2n48D"
      }
    },
    {
      "cell_type": "markdown",
      "source": [
        "### Notation\n",
        "\n",
        "We need some notation to differentiate between the values of two subsets mentioned above.\n",
        "\n",
        "One is the most valuable subset with weight $\\leq 500$ lbs that does not include the last painting (in this example, *The Old Guitarist).* We denote the value of this subset as\n",
        "\n",
        "$$\n",
        "S(\n",
        "  \\underbrace{n-1}_{\n",
        "    \\begin{array}{r}\n",
        "    \\text{exclude}\\\\\n",
        "    \\text{the last}\\\\\n",
        "    \\text{painting}\n",
        "    \\end{array}\n",
        "  },\n",
        "  \\underbrace{C_{\\max}}_{{\n",
        "    \\begin{array}{l}\n",
        "    \\text{load the}\\\\\n",
        "    \\text{truck to}\\\\\n",
        "    \\text{capacity}\n",
        "    \\end{array}\n",
        "    }}\n",
        "  )\n",
        "$$\n"
      ],
      "metadata": {
        "id": "buhVoRKAn77s"
      }
    },
    {
      "cell_type": "markdown",
      "source": [
        "\n",
        "where $n$ is the last item in the collection, therefore $n-1$ shows that we exclude it, and $C_\\max$ is the maximum loading capacity of the truck (500 lbs in our example).\n",
        "\n",
        "The other subset is the most valueable assortment of paintings we can fit in $C_\\max-w_n$ plus the value of the last painting. We write the value of this subset as\n",
        "\n",
        "$$\n",
        "S(\n",
        "  \\underbrace{n-1}_{\n",
        "    \\begin{array}{r}\n",
        "    \\text{exclude}\\\\\n",
        "    \\text{the last}\\\\\n",
        "    \\text{painting}\n",
        "    \\end{array}\n",
        "  },\n",
        "  \\underbrace{C_{\\max} -w_n}_{{\n",
        "    \\begin{array}{l}\n",
        "    \\text{leave room in}\\\\\n",
        "    \\text{the truck for}\\\\\n",
        "    \\text{last painting}\n",
        "    \\end{array}\n",
        "    }}\n",
        "  )\n",
        "  +\n",
        "  \\underbrace{v_n}_{\n",
        "    \\begin{array}{c}\n",
        "    \\text{then add} \\\\\n",
        "    \\text{last painting}\\\\\n",
        "    \\text{to truck}\n",
        "    \\end{array}\n",
        "  }\n",
        "$$\n",
        "where $v_n$ is the value of the last painting and $w_n$ is its weight."
      ],
      "metadata": {
        "id": "8ZJ30OGjrJFb"
      }
    },
    {
      "cell_type": "markdown",
      "source": [
        "### Take it or leave it\n",
        "\n",
        "The decision to take or leave the last painting comes to a simple comparison between two options.\n",
        "\n",
        "\n",
        "#### Leave it\n",
        "\n",
        "There is no room in the truck for the last painting. The truck is full to capacity and the items we take are the most valuable subset of $M-\\{n\\}$. The total value of this option is $S(n-1, C_\\max)$.\n",
        "\n",
        "#### Take it\n",
        "\n",
        "We make room in the truck for the last painting. Before we load the last painting, the items we take are the most valuable subset of $M-\\{n\\}$ that fit in the reduced capacity of the truck. The value of that subset is $S(n-1, C_\\max-w_n)$. When we add the last item, the truck is at capacity and the total value of this option is $\\color{maroon}{v_n}+S(n-1, C_\\max-w_n)$"
      ],
      "metadata": {
        "id": "WtFB0OhdrL08"
      }
    },
    {
      "cell_type": "markdown",
      "source": [
        "### Implications of $n\\not\\in S$\n",
        "\n",
        "If the last item $n$ **is not** in the optimal solution $S$, then $S$ is an optimal solution to the problem with $\\{1,2,\\ldots n-1\\}$ items as well. We can prove it mathematically (see Miscellaneous section at the end), but first let's agree that it's just common sense."
      ],
      "metadata": {
        "id": "0xFx0BsCGbrT"
      }
    },
    {
      "cell_type": "markdown",
      "source": [
        "### Implications of $n\\in S$\n",
        "\n",
        "If the last item $n$ is in the optimal solution $S$, then we know that $S$ **cannot be** an optimal solution for the smaller set $\\{1,2,\\ldots,n-1\\}$. Why? Because the smaller set does not include $n$. But $n$ is in the optimal solution $n$, which means that $S$ must be a subset of $\\{1,2,\\ldots,n\\}$.\n",
        "\n",
        "If we removed $n$ from $S$, then $S-\\{n\\}$ is an optimal solution for $\\{1,2,\\ldots,n-1\\}$. The total weight of $S-\\{n\\}$ is\n",
        "\n",
        "$$\n",
        "\\sum_i w_i \\leq C_\\max-w_n,\\ \\ i\\in S-\\{n\\}\n",
        "$$\n",
        "\n",
        "and its total value is $V-v_n$, where\n",
        "\n",
        "$$\n",
        "V = \\sum_{i\\in S} v_i\n",
        "$$\n",
        "is the total value of items in $S$.\n",
        "\n",
        "The reduction in weight above, by $w_n$, allows room to add the last item $n$ to $S-\\{n\\}$. The question now is: **do we want to do it?**\n",
        "\n",
        "Since $S-\\{n\\}$ is an optimal solution for the smaller problem of $\\{1,2,\\ldots,n\\}$, it has the best possible value among all subsets of $\\{1,2,\\ldots,n\\}$ whose weight is at-or-below $C_\\max-w_n$. We denote that value as\n",
        "\n",
        "$$S(n-1, C_\\max-w_n)$$\n",
        "\n",
        "There is room for the last item $n$. If we add that item to $S-\\{n\\}$, the total value becomes\n",
        "\n",
        "$$S(n-1, C_\\max-w_n)\\ + v_n$$\n",
        "\n",
        "Just because we can carry $w_n$ weight however, doesn't mean that we have to take item $n$. Are we better of by taking other items whose weight comes at-or-below $w_n$ and whose value exceeds the added value of $n$?\n",
        "\n",
        "We decide this matter by comparing the values of our two options:\n",
        "\n",
        "$$\n",
        "S(n,C_\\max) =\n",
        "\\max\n",
        "\\left\\{\n",
        "  \\begin{array}{l}\n",
        "  S(n-1, C_\\max),\\ &\\text{if}\\ w_n > C_\\max \\\\\n",
        "  S(n-1, C_\\max-w_n)+v_n,\\ &\\text{if}\\ w_n \\leq C_\\max\n",
        "  \\end{array}\n",
        "\\right\\}\n",
        "$$"
      ],
      "metadata": {
        "id": "AEEr3-EGHloI"
      }
    },
    {
      "cell_type": "markdown",
      "source": [
        "## Formal stuff\n",
        "\n",
        "The formula above gives the value of the optimal solution for the full set $\\{1,2,\\ldots, n\\}$. The items included in this solution have a total weight at-or-below our maximum capacity $C_\\max$.\n",
        "\n",
        "The same principle applies however when we try to find the optimal capacity for smaller problems like  $\\{1,2,\\ldots, \\color{green}{n-1}\\}$, $\\{1,2,\\ldots, \\color{green}{n-2}\\}$, etc. Essentially, we are solving a problem with fewer items and different capacities. In general, we write\n",
        "\n",
        "\\begin{align}\n",
        " S(i, r)  = &\n",
        "\\begin{cases}\n",
        "\\color{maroon}{\n",
        "S(i-1,r)},\\ &\\text{when}\\ w_i > r\\\\\n",
        "\\max\\left\\{\\color{maroon}{S(i-1,r),}\\ S(i-1,r-w_i)+v_i\\right\\},\\ &\\text{when}\\ w_i \\leq r\n",
        "\\end{cases}\\\\ \\\\\n",
        "& 0 \\leq  i \\leq n  \\\\\n",
        "& 0 \\leq r \\leq C_\\max\n",
        "\\end{align}\n",
        "\n",
        "$r$ is the *residual capacity*, i.e., how much capacity is available after we take on some load.\n",
        "\n",
        "It is straight-forward to determine the initial values of $S(i,r)$:\n",
        "\n",
        "\\begin{align}\n",
        "S(0,r) & = 0\\ \\ (\\text{There are 0 items to chose from}) &\\\\\n",
        "S(i,0) & = 0\\ \\ (\\text{There is no room to take aything}) &\n",
        "\\end{align}\n",
        "\n",
        "With these initial values, we can begin to build the rest of the values, for example:\n",
        "\n",
        "\\begin{align}\n",
        " S(1, 1)  = &\n",
        "\\begin{cases}\n",
        "S(0,1),\\ &\\text{if}\\ w_1 > 1\\\\\n",
        "\\max\\left\\{S(0,1),\\ S(0,1-w_1)+v_1\\right\\},\\ &\\text{if}\\ w_1 \\leq 1\n",
        "\\end{cases}\n",
        "\\end{align}\n",
        "\n",
        "This probably evalues to 0 if $w_1 > 1$ or $v_1$ if $w_1\\leq 1$. In other words if the weight of the first item is 1 (whatever weight units we use), we can take it and add its value $v_1$ to $S$."
      ],
      "metadata": {
        "id": "f2jQ2wQAJ1tk"
      }
    },
    {
      "cell_type": "markdown",
      "source": [
        "## Implementation\n",
        "\n",
        "To implement the <strike>Knapsack</strike> UHaul problem we need to decide what data structures you use. The data needed for this problem are the values and the weights of the items we wish to consider. The simplest approach is to use two arrays, one for values and one for weights. The arrays must be synchronized, so that the `i`-th element in both arrays related to the same item.\n",
        "\n",
        "The length of the arrays must be the same. From that length we can tell how many items there are.\n",
        "\n",
        "We assume that values and weights are integer numbers. The desired output is the table with all $S(i,r)$ values.\n",
        "\n",
        "Once we have that table, we can construct the subset $S$, by finding the path that leads to the bottom-right cell $S(n,C_\\max)$."
      ],
      "metadata": {
        "id": "9ad5fHb5Qe4_"
      }
    },
    {
      "cell_type": "code",
      "source": [
        "def simple_knapsack(value, weight, c_max):\n",
        "  # arrays must have same length\n",
        "  if len(value) != len(weight):\n",
        "    return None\n",
        "  # Number of items\n",
        "  n = len(value)\n",
        "  # Create output array with n + 1 rows and as many rows as max capacity + 1\n",
        "  # The +1 is to allow room for the S(0,r) and S(i,0) scenarios. The\n",
        "  # initialization below takes care of S(0,r) = 0 and S(i,0) = 0 assignments.\n",
        "  S = [[0 for _ in range(1+c_max)] for _ in range(1+n) ]\n",
        "  # Explore all not trivial cases\n",
        "  for i in range(1,n+1):\n",
        "    for residual_capacity in range(1,c_max+1):\n",
        "      # The most valuable subset among the first i items in the collection whose\n",
        "      # total weight is at-or-below r has value S(i,r).\n",
        "      if weight[i-1] > residual_capacity:\n",
        "        # i-th item cannot be included in subset, use immediately smaller subset\n",
        "        # We index to i-1 because values and weights are plain lists, and their\n",
        "        # first elements are in [0]\n",
        "        S[i][residual_capacity] = S[i-1][residual_capacity]\n",
        "      else:\n",
        "        # If there is room for the i-th item, it is more profitable to take it\n",
        "        # or leave it?\n",
        "        S[i][residual_capacity] = max(\n",
        "            S[i-1][residual_capacity],\n",
        "            value[i-1]+S[i-1][residual_capacity-weight[i-1]])\n",
        "  return S\n",
        "\n",
        "# A simple test\n",
        "values = [5,4,3,2]\n",
        "weights = [4,3,2,1]\n",
        "c_max = 6\n",
        "simple_knapsack(values, weights, c_max)"
      ],
      "metadata": {
        "id": "GhNvlhz8fqfq",
        "colab": {
          "base_uri": "https://localhost:8080/"
        },
        "outputId": "4ff4ee39-f035-4b4b-da6b-135c40ca2d78"
      },
      "execution_count": 2,
      "outputs": [
        {
          "output_type": "execute_result",
          "data": {
            "text/plain": [
              "[[0, 0, 0, 0, 0, 0, 0],\n",
              " [0, 0, 0, 0, 5, 5, 5],\n",
              " [0, 0, 0, 4, 5, 5, 5],\n",
              " [0, 0, 3, 4, 5, 7, 8],\n",
              " [0, 2, 3, 5, 6, 7, 9]]"
            ]
          },
          "metadata": {},
          "execution_count": 2
        }
      ]
    },
    {
      "cell_type": "markdown",
      "source": [
        "## Assignment\n",
        "\n",
        "Given the table $S(i,r)$ returned by method ``simple_knapsack`` above, contruct the the optimal subset of the most valuable items.\n",
        "\n",
        "*Hints:* write a method that takes the same parameters as ``simple_knapsack`` earlier, and the list `S`. The method returns a list of item labels; for example `[2,3,4]` together with their total weight `weight[1]+weight[2]weight[3]` and the total value `value[1]+value[2]+value[3]`."
      ],
      "metadata": {
        "id": "-z_gLq3mMClS"
      }
    },
    {
      "cell_type": "markdown",
      "source": [
        "## Reading material\n",
        "\n",
        "* [Dynamic Programming](https://jeffe.cs.illinois.edu/teaching/algorithms/book/03-dynprog.pdf) (Chapter 3 from Jeff Erickson's book).\n",
        "* [Dynamic Programming](https://web.mit.edu/15.053/www/AMP-Chapter-11.pdf) (Chapter 11, from Applied Mathematical Programming, by Bradley, Hax, and Magnanti).\n",
        "*[The Theory of Dynamic Programming](https://www.rand.org/content/dam/rand/pubs/papers/2008/P550.pdf) Richard Bellman's 1954 paper summarizing his work.\n",
        "* [Dynamic Programming](https://people.eecs.berkeley.edu/~vazirani/algorithms/chap6.pdf) (Chapter 6 from Algorithms by Dasgupta, Papadimitriou, and Vazirani).'\n",
        "* Leo's slide deck on [the anatomy of a dynamic programming table](https://docs.google.com/presentation/d/1fhhKnA9CH3AY_ltPt4qgtjsXocscWCf5C2cgxi4RCKw/edit?usp=sharing)."
      ],
      "metadata": {
        "id": "C5182Jx8Rnaq"
      }
    },
    {
      "cell_type": "markdown",
      "source": [
        "## Miscellaneous\n",
        "\n",
        "### Proofs\n",
        "\n",
        "**Theorem:** if S is an optimal solution for $\\{1,2,\\ldots,\\color{maroon}{n-1,} \\color{red}n\\}$ and  $\\color{red}n\\not\\in S$, then $S$ is an optimal solution for $\\{1,2,\\ldots,\\color{maroon}{n-1}\\}$ as well.\n",
        "\n",
        "If $S$ is an optimal solution, then\n",
        "$$\\sum_{i\\in s}w_i \\leq C_\\max$$\n",
        "Let $V=\\sum_{i\\in S}v_i$ be the value of all items in $S$. Because $S$ is an optimal solution for $\\{1,2,\\ldots,\\color{maroon}{n-1}\\}$, it means that $V$ is the highest possible value of any subset of $\\{1,2,\\ldots,\\color{maroon}{n-1}\\}$ that meets the weight restriction.\n",
        "\n",
        "**Proof.** Assume that there is another set $S^*$ that is the optimal solution for $\\{1,2,\\ldots,\\color{maroon}{n-1}\\}$. Its value $V^* = \\sum_{i\\in S^*}v_i$. But this contradicts the assumption that $S$'s value is the highest possible value of any subset of $\\{1,2,\\ldots,\\color{maroon}{n-1}\\}$"
      ],
      "metadata": {
        "id": "7fjS4YwFHlze"
      }
    },
    {
      "cell_type": "markdown",
      "source": [],
      "metadata": {
        "id": "aSg0aZbM7QhG"
      }
    },
    {
      "cell_type": "markdown",
      "source": [
        "\n",
        "---\n",
        "`Solution` :-\n",
        "\n",
        "\n",
        "\n",
        "\n",
        "\n",
        "\n",
        "***To get the output, here's what I did:***\n",
        "\n",
        "\n",
        "\n",
        "1.   Created a function to build the knapsack table:\n",
        "\n",
        "*  The simple_knapsack function looks at each item one by one and checks whether it can fit into the knapsack (based on its weight).\n",
        "*  For every possible weight limit (from 0 to the max capacity), it calculates the best possible value by either including the item (if it fits) or leaving it out. This information is stored in a table so that we can avoid recalculating the same thing later.\n",
        "\n",
        "\n",
        "2.   Created a function to trace back the best combination:\n",
        "\n",
        "*   Once we have the table filled with the best possible values for each item and capacity, the next step is figuring out which items make up that optimal solution.\n",
        "*   The find_optimal_subset function starts from the last item and works backward, checking if including that item gives a better value than leaving it out. If it does, we add the item to our solution and reduce the remaining capacity of the knapsack.\n",
        "\n",
        "3.  Ran the functions on test data:\n",
        "\n",
        "*   I used values and weights (like 5, 4, 3, and 2 for values, and 4, 3, 2, and 1 for weights) with a maximum knapsack capacity of 6 lbs.\n",
        "*   The result was that the best combination of items was items 4, 3, and 2. This combination gave us the maximum value of $9 million, perfectly filling the knapsack to its 6 lb capacity.\n",
        "\n",
        "---\n",
        "\n",
        "\n",
        "\n",
        "\n",
        " *I first calculated all the possible ways to combine items within the weight limit, then traced back to figure out which items gave the best value for the weight allowed.*"
      ],
      "metadata": {
        "id": "ZVsYqKZo7qtI"
      }
    },
    {
      "cell_type": "code",
      "source": [
        "def simple_knapsack(value, weight, c_max):\n",
        "    if len(value) != len(weight):\n",
        "        return None\n",
        "\n",
        "    n = len(value)\n",
        "    S = [[0] * (c_max + 1) for _ in range(n + 1)]\n",
        "\n",
        "    for i in range(1, n + 1):\n",
        "        for residual_capacity in range(1, c_max + 1):\n",
        "            if weight[i - 1] > residual_capacity:\n",
        "                S[i][residual_capacity] = S[i - 1][residual_capacity]\n",
        "            else:\n",
        "                S[i][residual_capacity] = max(\n",
        "                    S[i - 1][residual_capacity],\n",
        "                    value[i - 1] + S[i - 1][residual_capacity - weight[i - 1]]\n",
        "                )\n",
        "    return S\n",
        "# Run the knapsack function again\n",
        "values = [5, 4, 3, 2]\n",
        "weights = [4, 3, 2, 1]\n",
        "c_max = 6\n",
        "result = simple_knapsack(values, weights, c_max)\n",
        "\n",
        "# Now, run the find_optimal_subset function\n",
        "optimal_subset, total_weight, total_value = find_optimal_subset(values, weights, c_max, result)\n",
        "optimal_subset, total_weight, total_value\n",
        "\n"
      ],
      "metadata": {
        "id": "ayPO0cTn4jXX",
        "colab": {
          "base_uri": "https://localhost:8080/"
        },
        "outputId": "8c6f2011-5c91-4ca6-a37e-bac296411552"
      },
      "execution_count": 10,
      "outputs": [
        {
          "output_type": "execute_result",
          "data": {
            "text/plain": [
              "([4, 3, 2], 6, 9)"
            ]
          },
          "metadata": {},
          "execution_count": 10
        }
      ]
    }
  ]
}